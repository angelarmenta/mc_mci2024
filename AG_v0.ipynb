{
  "nbformat": 4,
  "nbformat_minor": 0,
  "metadata": {
    "colab": {
      "provenance": []
    },
    "kernelspec": {
      "name": "python3",
      "display_name": "Python 3"
    },
    "language_info": {
      "name": "python"
    }
  },
  "cells": [
    {
      "cell_type": "code",
      "execution_count": 28,
      "metadata": {
        "colab": {
          "base_uri": "https://localhost:8080/"
        },
        "id": "UN5EYJvUAy1-",
        "outputId": "dc8ad6f5-cb25-4d3d-ced9-312c5b8238fd"
      },
      "outputs": [
        {
          "output_type": "stream",
          "name": "stdout",
          "text": [
            "---------------- i: 1  ----------------\n",
            "padre 1:  28\n",
            "padre 2:  19\n",
            "El punto de cruce para padre1 y padre2 es: 1\n",
            "El bit a mutar del padre1 es: 3\n",
            "El bit a mutar del padre2 es: 1\n",
            "---------------- i: 2  ----------------\n",
            "padre 1:  25\n",
            "padre 2:  25\n",
            "El punto de cruce para padre1 y padre2 es: 2\n",
            "El bit a mutar del padre1 es: 1\n",
            "El bit a mutar del padre2 es: 3\n",
            "---------------- i: 3  ----------------\n",
            "padre 1:  20\n",
            "padre 2:  28\n",
            "El punto de cruce para padre1 y padre2 es: 1\n",
            "El bit a mutar del padre1 es: 4\n",
            "El bit a mutar del padre2 es: 4\n",
            "---------------- i: 4  ----------------\n",
            "padre 1:  28\n",
            "padre 2:  28\n",
            "El punto de cruce para padre1 y padre2 es: 3\n",
            "El bit a mutar del padre1 es: 2\n",
            "El bit a mutar del padre2 es: 4\n",
            "---------------- i: 5  ----------------\n",
            "padre 1:  28\n",
            "padre 2:  25\n",
            "El punto de cruce para padre1 y padre2 es: 2\n",
            "El bit a mutar del padre1 es: 1\n",
            "El bit a mutar del padre2 es: 1\n",
            "---------------- i: 6  ----------------\n",
            "padre 1:  20\n",
            "padre 2:  28\n",
            "El punto de cruce para padre1 y padre2 es: 2\n",
            "El bit a mutar del padre1 es: 2\n",
            "El bit a mutar del padre2 es: 2\n",
            "---------------- i: 7  ----------------\n",
            "padre 1:  18\n",
            "padre 2:  28\n",
            "El punto de cruce para padre1 y padre2 es: 3\n",
            "El bit a mutar del padre1 es: 3\n",
            "El bit a mutar del padre2 es: 3\n",
            "---------------- i: 8  ----------------\n",
            "padre 1:  19\n",
            "padre 2:  28\n",
            "El punto de cruce para padre1 y padre2 es: 3\n",
            "El bit a mutar del padre1 es: 2\n",
            "El bit a mutar del padre2 es: 1\n",
            "---------------- i: 9  ----------------\n",
            "padre 1:  30\n",
            "padre 2:  19\n",
            "El punto de cruce para padre1 y padre2 es: 2\n",
            "El bit a mutar del padre1 es: 3\n",
            "El bit a mutar del padre2 es: 2\n",
            "---------------- i: 10  ----------------\n",
            "padre 1:  28\n",
            "padre 2:  25\n",
            "El punto de cruce para padre1 y padre2 es: 2\n",
            "El bit a mutar del padre1 es: 2\n",
            "El bit a mutar del padre2 es: 3\n"
          ]
        }
      ],
      "source": [
        "#developed by Roberto Ángel Meléndez-Armenta\n",
        "#https://www.youtube.com/@educar-ia\n",
        "\n",
        "import random\n",
        "\n",
        "n_bits = 5\n",
        "size_poblacion = 10\n",
        "poblacion = [11,4,11,25,6,30,20,19,18,28]\n",
        "\n",
        "for i in range(0,10):\n",
        "  print(\"---------------- i:\",i+1,\" ----------------\")\n",
        "  #Selección\n",
        "  padre1 = seleccion(poblacion)\n",
        "  padre2 = seleccion(poblacion)\n",
        "\n",
        "  print(\"padre 1: \", padre1)\n",
        "  print(\"padre 2: \", padre2)\n",
        "\n",
        "  #Cruce\n",
        "  print(\"El punto de cruce para padre1 y padre2 es:\", cruce(n_bits))\n",
        "\n",
        "  #Mutación\n",
        "  print(\"El bit a mutar del padre1 es:\", mutacion(n_bits))\n",
        "  print(\"El bit a mutar del padre2 es:\", mutacion(n_bits))\n",
        "\n"
      ]
    },
    {
      "cell_type": "code",
      "source": [
        "# Función para la selección de los padres\n",
        "def seleccion(poblacion):\n",
        "  i = -1\n",
        "  r1 = random.random()\n",
        "  #print(r1)\n",
        "  if r1 >= 0 and r1 < 0.0328:\n",
        "    i = 0\n",
        "    #print(\"Selecciona individuo #1 = \", poblacion[i])\n",
        "  if r1 >= 0.0328 and r1 < 0.0371:\n",
        "    i = 1\n",
        "    #print(\"Selecciona individuo #2 = \", poblacion[i])\n",
        "  if r1 >= 0.0371 and r1 < 0.0699:\n",
        "    i = 2\n",
        "    #print(\"Selecciona individuo #3 = \", poblacion[i])\n",
        "  if r1 >= 0.0699 and r1 < 0.2394:\n",
        "    i = 3\n",
        "    #print(\"Selecciona individuo #4 = \", poblacion[i])\n",
        "  if r1 >= 0.2394 and r1 < 0.2491:\n",
        "    i = 4\n",
        "    #print(\"Selecciona individuo #5 = \", poblacion[i])\n",
        "  if r1 >= 0.2491 and r1 < 0.4932:\n",
        "    i = 5\n",
        "    #print(\"Selecciona individuo #6 = \", poblacion[i])\n",
        "  if r1 >= 0.4932 and r1 < 0.601:\n",
        "    i = 6\n",
        "    #print(\"Selecciona individuo #7 = \", poblacion[i])\n",
        "  if r1 >= 0.601 and r1 < 0.6995:\n",
        "    i = 7\n",
        "    #print(\"Selecciona individuo #8 = \", poblacion[i])\n",
        "  if r1 >= 0.6995 and r1 < 0.7874:\n",
        "    i = 8\n",
        "    #print(\"Selecciona individuo #9 = \", poblacion[i])\n",
        "  if r1 >= 0.7874 and r1 <= 1:\n",
        "    i = 9\n",
        "    #print(\"Selecciona individuo #10 = \", poblacion[i])\n",
        "\n",
        "  return poblacion[i]"
      ],
      "metadata": {
        "id": "dNiVnrqWEbsQ"
      },
      "execution_count": 11,
      "outputs": []
    },
    {
      "cell_type": "code",
      "source": [
        "def cruce(n_bits):\n",
        "  return random.randrange(1,n_bits-1)"
      ],
      "metadata": {
        "id": "Jc5gSX_ZHOdN"
      },
      "execution_count": 22,
      "outputs": []
    },
    {
      "cell_type": "code",
      "source": [
        "def mutacion(n_bits):\n",
        "  return random.randrange(1,n_bits)"
      ],
      "metadata": {
        "id": "uEXTEw6mITcZ"
      },
      "execution_count": 24,
      "outputs": []
    }
  ]
}